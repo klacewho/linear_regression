{
 "metadata": {
  "language_info": {
   "codemirror_mode": {
    "name": "ipython",
    "version": 3
   },
   "file_extension": ".py",
   "mimetype": "text/x-python",
   "name": "python",
   "nbconvert_exporter": "python",
   "pygments_lexer": "ipython3",
   "version": "3.9.5"
  },
  "orig_nbformat": 2,
  "kernelspec": {
   "name": "pythonjvsc74a57bd0b366867a288e649ac699d4dedda4d55de8538c9299de4685fa6a3d243f45a65d",
   "display_name": "Python 3.9.5  ('.venv': venv)"
  },
  "metadata": {
   "interpreter": {
    "hash": "b366867a288e649ac699d4dedda4d55de8538c9299de4685fa6a3d243f45a65d"
   }
  }
 },
 "nbformat": 4,
 "nbformat_minor": 2,
 "cells": [
  {
   "cell_type": "code",
   "execution_count": 13,
   "metadata": {},
   "outputs": [],
   "source": [
    "import pandas as pd\n",
    "# import numpy as np\n",
    "# import matplotlib.pyplot as plt\n",
    "# from sklearn.linear_model import LinearRegression\n",
    "# from sklearn.model_selection import train_test_split"
   ]
  },
  {
   "cell_type": "code",
   "execution_count": 17,
   "metadata": {},
   "outputs": [
    {
     "output_type": "execute_result",
     "data": {
      "text/plain": [
       "     id  year  state_abbr offense_code                         offense_name  \\\n",
       "0  1081  2016         NaN    ASR_ARSON                                Arson   \n",
       "1  1082  2016         NaN      ASR_AST                   Aggravated Assault   \n",
       "2  1083  2016         NaN  ASR_AST_SMP                       Simple Assault   \n",
       "3  1084  2016         NaN      ASR_BRG                             Burglary   \n",
       "4  1085  2016         NaN      ASR_CUR  Curfew and Loitering Law Violations   \n",
       "\n",
       "   agencies  population  total_male  total_female   m_0_9  ...  f_13_14  \\\n",
       "0     13310   264534532        1760           328   117.0  ...    114.0   \n",
       "1     13310   264534532       16997          5918   141.0  ...   1565.0   \n",
       "2     13310   264534532       66360         38712  1043.0  ...  11210.0   \n",
       "3     13310   264534532       23307          3071   167.0  ...    727.0   \n",
       "4     13310   264534532       19218          8319   110.0  ...   1991.0   \n",
       "\n",
       "     f_15    f_16  f_17  race_agencies  race_population  white  black  \\\n",
       "0    66.0    39.0    43          12581        263887632   1436    516   \n",
       "1  1171.0  1337.0  1361          12581        263887632  12370   9736   \n",
       "2  8036.0  8264.0  7590          12581        263887632  59778  41923   \n",
       "3   618.0   689.0   833          12581        263887632  14413  11082   \n",
       "4  1887.0  2267.0  1701          12581        263887632  15468  11045   \n",
       "\n",
       "   asian_pacific_islander  american_indian  \n",
       "0                    41.0             48.0  \n",
       "1                   296.0            364.0  \n",
       "2                  1130.0           1378.0  \n",
       "3                   368.0            362.0  \n",
       "4                   382.0            429.0  \n",
       "\n",
       "[5 rows x 27 columns]"
      ],
      "text/html": "<div>\n<style scoped>\n    .dataframe tbody tr th:only-of-type {\n        vertical-align: middle;\n    }\n\n    .dataframe tbody tr th {\n        vertical-align: top;\n    }\n\n    .dataframe thead th {\n        text-align: right;\n    }\n</style>\n<table border=\"1\" class=\"dataframe\">\n  <thead>\n    <tr style=\"text-align: right;\">\n      <th></th>\n      <th>id</th>\n      <th>year</th>\n      <th>state_abbr</th>\n      <th>offense_code</th>\n      <th>offense_name</th>\n      <th>agencies</th>\n      <th>population</th>\n      <th>total_male</th>\n      <th>total_female</th>\n      <th>m_0_9</th>\n      <th>...</th>\n      <th>f_13_14</th>\n      <th>f_15</th>\n      <th>f_16</th>\n      <th>f_17</th>\n      <th>race_agencies</th>\n      <th>race_population</th>\n      <th>white</th>\n      <th>black</th>\n      <th>asian_pacific_islander</th>\n      <th>american_indian</th>\n    </tr>\n  </thead>\n  <tbody>\n    <tr>\n      <th>0</th>\n      <td>1081</td>\n      <td>2016</td>\n      <td>NaN</td>\n      <td>ASR_ARSON</td>\n      <td>Arson</td>\n      <td>13310</td>\n      <td>264534532</td>\n      <td>1760</td>\n      <td>328</td>\n      <td>117.0</td>\n      <td>...</td>\n      <td>114.0</td>\n      <td>66.0</td>\n      <td>39.0</td>\n      <td>43</td>\n      <td>12581</td>\n      <td>263887632</td>\n      <td>1436</td>\n      <td>516</td>\n      <td>41.0</td>\n      <td>48.0</td>\n    </tr>\n    <tr>\n      <th>1</th>\n      <td>1082</td>\n      <td>2016</td>\n      <td>NaN</td>\n      <td>ASR_AST</td>\n      <td>Aggravated Assault</td>\n      <td>13310</td>\n      <td>264534532</td>\n      <td>16997</td>\n      <td>5918</td>\n      <td>141.0</td>\n      <td>...</td>\n      <td>1565.0</td>\n      <td>1171.0</td>\n      <td>1337.0</td>\n      <td>1361</td>\n      <td>12581</td>\n      <td>263887632</td>\n      <td>12370</td>\n      <td>9736</td>\n      <td>296.0</td>\n      <td>364.0</td>\n    </tr>\n    <tr>\n      <th>2</th>\n      <td>1083</td>\n      <td>2016</td>\n      <td>NaN</td>\n      <td>ASR_AST_SMP</td>\n      <td>Simple Assault</td>\n      <td>13310</td>\n      <td>264534532</td>\n      <td>66360</td>\n      <td>38712</td>\n      <td>1043.0</td>\n      <td>...</td>\n      <td>11210.0</td>\n      <td>8036.0</td>\n      <td>8264.0</td>\n      <td>7590</td>\n      <td>12581</td>\n      <td>263887632</td>\n      <td>59778</td>\n      <td>41923</td>\n      <td>1130.0</td>\n      <td>1378.0</td>\n    </tr>\n    <tr>\n      <th>3</th>\n      <td>1084</td>\n      <td>2016</td>\n      <td>NaN</td>\n      <td>ASR_BRG</td>\n      <td>Burglary</td>\n      <td>13310</td>\n      <td>264534532</td>\n      <td>23307</td>\n      <td>3071</td>\n      <td>167.0</td>\n      <td>...</td>\n      <td>727.0</td>\n      <td>618.0</td>\n      <td>689.0</td>\n      <td>833</td>\n      <td>12581</td>\n      <td>263887632</td>\n      <td>14413</td>\n      <td>11082</td>\n      <td>368.0</td>\n      <td>362.0</td>\n    </tr>\n    <tr>\n      <th>4</th>\n      <td>1085</td>\n      <td>2016</td>\n      <td>NaN</td>\n      <td>ASR_CUR</td>\n      <td>Curfew and Loitering Law Violations</td>\n      <td>13310</td>\n      <td>264534532</td>\n      <td>19218</td>\n      <td>8319</td>\n      <td>110.0</td>\n      <td>...</td>\n      <td>1991.0</td>\n      <td>1887.0</td>\n      <td>2267.0</td>\n      <td>1701</td>\n      <td>12581</td>\n      <td>263887632</td>\n      <td>15468</td>\n      <td>11045</td>\n      <td>382.0</td>\n      <td>429.0</td>\n    </tr>\n  </tbody>\n</table>\n<p>5 rows × 27 columns</p>\n</div>"
     },
     "metadata": {},
     "execution_count": 17
    }
   ],
   "source": [
    "df_crime_stats = pd.read_csv('./arrests_national_juvenile.csv')\n",
    "df_crime_stats.head()"
   ]
  },
  {
   "cell_type": "code",
   "execution_count": 19,
   "metadata": {},
   "outputs": [
    {
     "output_type": "execute_result",
     "data": {
      "text/plain": [
       "<bound method DataFrame.info of        id  year  state_abbr offense_code                         offense_name  \\\n",
       "0    1081  2016         NaN    ASR_ARSON                                Arson   \n",
       "1    1082  2016         NaN      ASR_AST                   Aggravated Assault   \n",
       "2    1083  2016         NaN  ASR_AST_SMP                       Simple Assault   \n",
       "3    1084  2016         NaN      ASR_BRG                             Burglary   \n",
       "4    1085  2016         NaN      ASR_CUR  Curfew and Loitering Law Violations   \n",
       "..    ...   ...         ...          ...                                  ...   \n",
       "685   446  1994         NaN      ASR_STP                      Stolen Property   \n",
       "686   447  1994         NaN      ASR_SUS                            Suspicion   \n",
       "687   448  1994         NaN      ASR_VAG                             Vagrancy   \n",
       "688   449  1994         NaN      ASR_VAN                            Vandalism   \n",
       "689   450  1994         NaN     ASR_WEAP                              Weapons   \n",
       "\n",
       "     agencies  population  total_male  total_female   m_0_9  ...  f_13_14  \\\n",
       "0       13310   264534532        1760           328   117.0  ...    114.0   \n",
       "1       13310   264534532       16997          5918   141.0  ...   1565.0   \n",
       "2       13310   264534532       66360         38712  1043.0  ...  11210.0   \n",
       "3       13310   264534532       23307          3071   167.0  ...    727.0   \n",
       "4       13310   264534532       19218          8319   110.0  ...   1991.0   \n",
       "..        ...         ...         ...           ...     ...  ...      ...   \n",
       "685     10713   208091172       32205          4105   211.0  ...   1150.0   \n",
       "686     10713   208091172        1389           330    30.0  ...     99.0   \n",
       "687     10713   208091172        2979           683    15.0  ...    206.0   \n",
       "688     10713   208091172      110175         12616  5621.0  ...   4161.0   \n",
       "689     10713   208091172       48128          4235   562.0  ...   1451.0   \n",
       "\n",
       "       f_15    f_16  f_17  race_agencies  race_population  white  black  \\\n",
       "0      66.0    39.0    43          12581        263887632   1436    516   \n",
       "1    1171.0  1337.0  1361          12581        263887632  12370   9736   \n",
       "2    8036.0  8264.0  7590          12581        263887632  59778  41923   \n",
       "3     618.0   689.0   833          12581        263887632  14413  11082   \n",
       "4    1887.0  2267.0  1701          12581        263887632  15468  11045   \n",
       "..      ...     ...   ...            ...              ...    ...    ...   \n",
       "685   905.0   937.0   863          10282        207684879  21242  14077   \n",
       "686    76.0    64.0    58          10282        207684879   1171    521   \n",
       "687   143.0   159.0   149          10282        207684879   2599   1010   \n",
       "688  2272.0  2050.0  1864          10282        207684879  98391  20722   \n",
       "689   878.0   782.0   687          10282        207684879  32308  18786   \n",
       "\n",
       "     asian_pacific_islander  american_indian  \n",
       "0                      41.0             48.0  \n",
       "1                     296.0            364.0  \n",
       "2                    1130.0           1378.0  \n",
       "3                     368.0            362.0  \n",
       "4                     382.0            429.0  \n",
       "..                      ...              ...  \n",
       "685                   587.0            364.0  \n",
       "686                     5.0             22.0  \n",
       "687                    40.0             13.0  \n",
       "688                  2073.0           1257.0  \n",
       "689                   846.0            380.0  \n",
       "\n",
       "[690 rows x 27 columns]>"
      ]
     },
     "metadata": {},
     "execution_count": 19
    }
   ],
   "source": [
    "df_crime_stats.info"
   ]
  },
  {
   "cell_type": "code",
   "execution_count": 20,
   "metadata": {},
   "outputs": [
    {
     "output_type": "execute_result",
     "data": {
      "text/plain": [
       "<bound method NDFrame.describe of        id  year  state_abbr offense_code                         offense_name  \\\n",
       "0    1081  2016         NaN    ASR_ARSON                                Arson   \n",
       "1    1082  2016         NaN      ASR_AST                   Aggravated Assault   \n",
       "2    1083  2016         NaN  ASR_AST_SMP                       Simple Assault   \n",
       "3    1084  2016         NaN      ASR_BRG                             Burglary   \n",
       "4    1085  2016         NaN      ASR_CUR  Curfew and Loitering Law Violations   \n",
       "..    ...   ...         ...          ...                                  ...   \n",
       "685   446  1994         NaN      ASR_STP                      Stolen Property   \n",
       "686   447  1994         NaN      ASR_SUS                            Suspicion   \n",
       "687   448  1994         NaN      ASR_VAG                             Vagrancy   \n",
       "688   449  1994         NaN      ASR_VAN                            Vandalism   \n",
       "689   450  1994         NaN     ASR_WEAP                              Weapons   \n",
       "\n",
       "     agencies  population  total_male  total_female   m_0_9  ...  f_13_14  \\\n",
       "0       13310   264534532        1760           328   117.0  ...    114.0   \n",
       "1       13310   264534532       16997          5918   141.0  ...   1565.0   \n",
       "2       13310   264534532       66360         38712  1043.0  ...  11210.0   \n",
       "3       13310   264534532       23307          3071   167.0  ...    727.0   \n",
       "4       13310   264534532       19218          8319   110.0  ...   1991.0   \n",
       "..        ...         ...         ...           ...     ...  ...      ...   \n",
       "685     10713   208091172       32205          4105   211.0  ...   1150.0   \n",
       "686     10713   208091172        1389           330    30.0  ...     99.0   \n",
       "687     10713   208091172        2979           683    15.0  ...    206.0   \n",
       "688     10713   208091172      110175         12616  5621.0  ...   4161.0   \n",
       "689     10713   208091172       48128          4235   562.0  ...   1451.0   \n",
       "\n",
       "       f_15    f_16  f_17  race_agencies  race_population  white  black  \\\n",
       "0      66.0    39.0    43          12581        263887632   1436    516   \n",
       "1    1171.0  1337.0  1361          12581        263887632  12370   9736   \n",
       "2    8036.0  8264.0  7590          12581        263887632  59778  41923   \n",
       "3     618.0   689.0   833          12581        263887632  14413  11082   \n",
       "4    1887.0  2267.0  1701          12581        263887632  15468  11045   \n",
       "..      ...     ...   ...            ...              ...    ...    ...   \n",
       "685   905.0   937.0   863          10282        207684879  21242  14077   \n",
       "686    76.0    64.0    58          10282        207684879   1171    521   \n",
       "687   143.0   159.0   149          10282        207684879   2599   1010   \n",
       "688  2272.0  2050.0  1864          10282        207684879  98391  20722   \n",
       "689   878.0   782.0   687          10282        207684879  32308  18786   \n",
       "\n",
       "     asian_pacific_islander  american_indian  \n",
       "0                      41.0             48.0  \n",
       "1                     296.0            364.0  \n",
       "2                    1130.0           1378.0  \n",
       "3                     368.0            362.0  \n",
       "4                     382.0            429.0  \n",
       "..                      ...              ...  \n",
       "685                   587.0            364.0  \n",
       "686                     5.0             22.0  \n",
       "687                    40.0             13.0  \n",
       "688                  2073.0           1257.0  \n",
       "689                   846.0            380.0  \n",
       "\n",
       "[690 rows x 27 columns]>"
      ]
     },
     "metadata": {},
     "execution_count": 20
    }
   ],
   "source": [
    "df_crime_stats.describe"
   ]
  },
  {
   "cell_type": "code",
   "execution_count": 24,
   "metadata": {},
   "outputs": [
    {
     "output_type": "execute_result",
     "data": {
      "text/plain": [
       "       id  year  state_abbr offense_code                         offense_name  \\\n",
       "0    1081  2016         NaN    ASR_ARSON                                Arson   \n",
       "1    1082  2016         NaN      ASR_AST                   Aggravated Assault   \n",
       "2    1083  2016         NaN  ASR_AST_SMP                       Simple Assault   \n",
       "3    1084  2016         NaN      ASR_BRG                             Burglary   \n",
       "4    1085  2016         NaN      ASR_CUR  Curfew and Loitering Law Violations   \n",
       "..    ...   ...         ...          ...                                  ...   \n",
       "685   446  1994         NaN      ASR_STP                      Stolen Property   \n",
       "686   447  1994         NaN      ASR_SUS                            Suspicion   \n",
       "687   448  1994         NaN      ASR_VAG                             Vagrancy   \n",
       "688   449  1994         NaN      ASR_VAN                            Vandalism   \n",
       "689   450  1994         NaN     ASR_WEAP                              Weapons   \n",
       "\n",
       "     agencies  population  total_male  total_female   m_0_9  ...    f_15  \\\n",
       "0       13310   264534532        1760           328   117.0  ...    66.0   \n",
       "1       13310   264534532       16997          5918   141.0  ...  1171.0   \n",
       "2       13310   264534532       66360         38712  1043.0  ...  8036.0   \n",
       "3       13310   264534532       23307          3071   167.0  ...   618.0   \n",
       "4       13310   264534532       19218          8319   110.0  ...  1887.0   \n",
       "..        ...         ...         ...           ...     ...  ...     ...   \n",
       "685     10713   208091172       32205          4105   211.0  ...   905.0   \n",
       "686     10713   208091172        1389           330    30.0  ...    76.0   \n",
       "687     10713   208091172        2979           683    15.0  ...   143.0   \n",
       "688     10713   208091172      110175         12616  5621.0  ...  2272.0   \n",
       "689     10713   208091172       48128          4235   562.0  ...   878.0   \n",
       "\n",
       "       f_16  f_17  race_agencies  race_population  white  black  \\\n",
       "0      39.0    43          12581        263887632   1436    516   \n",
       "1    1337.0  1361          12581        263887632  12370   9736   \n",
       "2    8264.0  7590          12581        263887632  59778  41923   \n",
       "3     689.0   833          12581        263887632  14413  11082   \n",
       "4    2267.0  1701          12581        263887632  15468  11045   \n",
       "..      ...   ...            ...              ...    ...    ...   \n",
       "685   937.0   863          10282        207684879  21242  14077   \n",
       "686    64.0    58          10282        207684879   1171    521   \n",
       "687   159.0   149          10282        207684879   2599   1010   \n",
       "688  2050.0  1864          10282        207684879  98391  20722   \n",
       "689   782.0   687          10282        207684879  32308  18786   \n",
       "\n",
       "     asian_pacific_islander  american_indian                      datetime  \n",
       "0                      41.0             48.0 1970-01-01 00:00:00.000002016  \n",
       "1                     296.0            364.0 1970-01-01 00:00:00.000002016  \n",
       "2                    1130.0           1378.0 1970-01-01 00:00:00.000002016  \n",
       "3                     368.0            362.0 1970-01-01 00:00:00.000002016  \n",
       "4                     382.0            429.0 1970-01-01 00:00:00.000002016  \n",
       "..                      ...              ...                           ...  \n",
       "685                   587.0            364.0 1970-01-01 00:00:00.000001994  \n",
       "686                     5.0             22.0 1970-01-01 00:00:00.000001994  \n",
       "687                    40.0             13.0 1970-01-01 00:00:00.000001994  \n",
       "688                  2073.0           1257.0 1970-01-01 00:00:00.000001994  \n",
       "689                   846.0            380.0 1970-01-01 00:00:00.000001994  \n",
       "\n",
       "[690 rows x 28 columns]"
      ],
      "text/html": "<div>\n<style scoped>\n    .dataframe tbody tr th:only-of-type {\n        vertical-align: middle;\n    }\n\n    .dataframe tbody tr th {\n        vertical-align: top;\n    }\n\n    .dataframe thead th {\n        text-align: right;\n    }\n</style>\n<table border=\"1\" class=\"dataframe\">\n  <thead>\n    <tr style=\"text-align: right;\">\n      <th></th>\n      <th>id</th>\n      <th>year</th>\n      <th>state_abbr</th>\n      <th>offense_code</th>\n      <th>offense_name</th>\n      <th>agencies</th>\n      <th>population</th>\n      <th>total_male</th>\n      <th>total_female</th>\n      <th>m_0_9</th>\n      <th>...</th>\n      <th>f_15</th>\n      <th>f_16</th>\n      <th>f_17</th>\n      <th>race_agencies</th>\n      <th>race_population</th>\n      <th>white</th>\n      <th>black</th>\n      <th>asian_pacific_islander</th>\n      <th>american_indian</th>\n      <th>datetime</th>\n    </tr>\n  </thead>\n  <tbody>\n    <tr>\n      <th>0</th>\n      <td>1081</td>\n      <td>2016</td>\n      <td>NaN</td>\n      <td>ASR_ARSON</td>\n      <td>Arson</td>\n      <td>13310</td>\n      <td>264534532</td>\n      <td>1760</td>\n      <td>328</td>\n      <td>117.0</td>\n      <td>...</td>\n      <td>66.0</td>\n      <td>39.0</td>\n      <td>43</td>\n      <td>12581</td>\n      <td>263887632</td>\n      <td>1436</td>\n      <td>516</td>\n      <td>41.0</td>\n      <td>48.0</td>\n      <td>1970-01-01 00:00:00.000002016</td>\n    </tr>\n    <tr>\n      <th>1</th>\n      <td>1082</td>\n      <td>2016</td>\n      <td>NaN</td>\n      <td>ASR_AST</td>\n      <td>Aggravated Assault</td>\n      <td>13310</td>\n      <td>264534532</td>\n      <td>16997</td>\n      <td>5918</td>\n      <td>141.0</td>\n      <td>...</td>\n      <td>1171.0</td>\n      <td>1337.0</td>\n      <td>1361</td>\n      <td>12581</td>\n      <td>263887632</td>\n      <td>12370</td>\n      <td>9736</td>\n      <td>296.0</td>\n      <td>364.0</td>\n      <td>1970-01-01 00:00:00.000002016</td>\n    </tr>\n    <tr>\n      <th>2</th>\n      <td>1083</td>\n      <td>2016</td>\n      <td>NaN</td>\n      <td>ASR_AST_SMP</td>\n      <td>Simple Assault</td>\n      <td>13310</td>\n      <td>264534532</td>\n      <td>66360</td>\n      <td>38712</td>\n      <td>1043.0</td>\n      <td>...</td>\n      <td>8036.0</td>\n      <td>8264.0</td>\n      <td>7590</td>\n      <td>12581</td>\n      <td>263887632</td>\n      <td>59778</td>\n      <td>41923</td>\n      <td>1130.0</td>\n      <td>1378.0</td>\n      <td>1970-01-01 00:00:00.000002016</td>\n    </tr>\n    <tr>\n      <th>3</th>\n      <td>1084</td>\n      <td>2016</td>\n      <td>NaN</td>\n      <td>ASR_BRG</td>\n      <td>Burglary</td>\n      <td>13310</td>\n      <td>264534532</td>\n      <td>23307</td>\n      <td>3071</td>\n      <td>167.0</td>\n      <td>...</td>\n      <td>618.0</td>\n      <td>689.0</td>\n      <td>833</td>\n      <td>12581</td>\n      <td>263887632</td>\n      <td>14413</td>\n      <td>11082</td>\n      <td>368.0</td>\n      <td>362.0</td>\n      <td>1970-01-01 00:00:00.000002016</td>\n    </tr>\n    <tr>\n      <th>4</th>\n      <td>1085</td>\n      <td>2016</td>\n      <td>NaN</td>\n      <td>ASR_CUR</td>\n      <td>Curfew and Loitering Law Violations</td>\n      <td>13310</td>\n      <td>264534532</td>\n      <td>19218</td>\n      <td>8319</td>\n      <td>110.0</td>\n      <td>...</td>\n      <td>1887.0</td>\n      <td>2267.0</td>\n      <td>1701</td>\n      <td>12581</td>\n      <td>263887632</td>\n      <td>15468</td>\n      <td>11045</td>\n      <td>382.0</td>\n      <td>429.0</td>\n      <td>1970-01-01 00:00:00.000002016</td>\n    </tr>\n    <tr>\n      <th>...</th>\n      <td>...</td>\n      <td>...</td>\n      <td>...</td>\n      <td>...</td>\n      <td>...</td>\n      <td>...</td>\n      <td>...</td>\n      <td>...</td>\n      <td>...</td>\n      <td>...</td>\n      <td>...</td>\n      <td>...</td>\n      <td>...</td>\n      <td>...</td>\n      <td>...</td>\n      <td>...</td>\n      <td>...</td>\n      <td>...</td>\n      <td>...</td>\n      <td>...</td>\n      <td>...</td>\n    </tr>\n    <tr>\n      <th>685</th>\n      <td>446</td>\n      <td>1994</td>\n      <td>NaN</td>\n      <td>ASR_STP</td>\n      <td>Stolen Property</td>\n      <td>10713</td>\n      <td>208091172</td>\n      <td>32205</td>\n      <td>4105</td>\n      <td>211.0</td>\n      <td>...</td>\n      <td>905.0</td>\n      <td>937.0</td>\n      <td>863</td>\n      <td>10282</td>\n      <td>207684879</td>\n      <td>21242</td>\n      <td>14077</td>\n      <td>587.0</td>\n      <td>364.0</td>\n      <td>1970-01-01 00:00:00.000001994</td>\n    </tr>\n    <tr>\n      <th>686</th>\n      <td>447</td>\n      <td>1994</td>\n      <td>NaN</td>\n      <td>ASR_SUS</td>\n      <td>Suspicion</td>\n      <td>10713</td>\n      <td>208091172</td>\n      <td>1389</td>\n      <td>330</td>\n      <td>30.0</td>\n      <td>...</td>\n      <td>76.0</td>\n      <td>64.0</td>\n      <td>58</td>\n      <td>10282</td>\n      <td>207684879</td>\n      <td>1171</td>\n      <td>521</td>\n      <td>5.0</td>\n      <td>22.0</td>\n      <td>1970-01-01 00:00:00.000001994</td>\n    </tr>\n    <tr>\n      <th>687</th>\n      <td>448</td>\n      <td>1994</td>\n      <td>NaN</td>\n      <td>ASR_VAG</td>\n      <td>Vagrancy</td>\n      <td>10713</td>\n      <td>208091172</td>\n      <td>2979</td>\n      <td>683</td>\n      <td>15.0</td>\n      <td>...</td>\n      <td>143.0</td>\n      <td>159.0</td>\n      <td>149</td>\n      <td>10282</td>\n      <td>207684879</td>\n      <td>2599</td>\n      <td>1010</td>\n      <td>40.0</td>\n      <td>13.0</td>\n      <td>1970-01-01 00:00:00.000001994</td>\n    </tr>\n    <tr>\n      <th>688</th>\n      <td>449</td>\n      <td>1994</td>\n      <td>NaN</td>\n      <td>ASR_VAN</td>\n      <td>Vandalism</td>\n      <td>10713</td>\n      <td>208091172</td>\n      <td>110175</td>\n      <td>12616</td>\n      <td>5621.0</td>\n      <td>...</td>\n      <td>2272.0</td>\n      <td>2050.0</td>\n      <td>1864</td>\n      <td>10282</td>\n      <td>207684879</td>\n      <td>98391</td>\n      <td>20722</td>\n      <td>2073.0</td>\n      <td>1257.0</td>\n      <td>1970-01-01 00:00:00.000001994</td>\n    </tr>\n    <tr>\n      <th>689</th>\n      <td>450</td>\n      <td>1994</td>\n      <td>NaN</td>\n      <td>ASR_WEAP</td>\n      <td>Weapons</td>\n      <td>10713</td>\n      <td>208091172</td>\n      <td>48128</td>\n      <td>4235</td>\n      <td>562.0</td>\n      <td>...</td>\n      <td>878.0</td>\n      <td>782.0</td>\n      <td>687</td>\n      <td>10282</td>\n      <td>207684879</td>\n      <td>32308</td>\n      <td>18786</td>\n      <td>846.0</td>\n      <td>380.0</td>\n      <td>1970-01-01 00:00:00.000001994</td>\n    </tr>\n  </tbody>\n</table>\n<p>690 rows × 28 columns</p>\n</div>"
     },
     "metadata": {},
     "execution_count": 24
    }
   ],
   "source": [
    "df_crime_stats['datetime'] = pd.to_datetime(df_crime_stats['year'], errors='ignore')\n",
    "df_crime_stats"
   ]
  },
  {
   "cell_type": "code",
   "execution_count": 25,
   "metadata": {},
   "outputs": [
    {
     "output_type": "error",
     "ename": "NameError",
     "evalue": "name 'df' is not defined",
     "traceback": [
      "\u001b[0;31m---------------------------------------------------------------------------\u001b[0m",
      "\u001b[0;31mNameError\u001b[0m                                 Traceback (most recent call last)",
      "\u001b[0;32m<ipython-input-25-1ccad89370aa>\u001b[0m in \u001b[0;36m<module>\u001b[0;34m\u001b[0m\n\u001b[0;32m----> 1\u001b[0;31m \u001b[0mcrimes\u001b[0m \u001b[0;34m=\u001b[0m \u001b[0mdf\u001b[0m\u001b[0;34m[\u001b[0m\u001b[0;34m'offense_name'\u001b[0m\u001b[0;34m]\u001b[0m\u001b[0;34m.\u001b[0m\u001b[0mvalues\u001b[0m\u001b[0;34m\u001b[0m\u001b[0;34m\u001b[0m\u001b[0m\n\u001b[0m\u001b[1;32m      2\u001b[0m \u001b[0mcrimes\u001b[0m\u001b[0;34m\u001b[0m\u001b[0;34m\u001b[0m\u001b[0m\n",
      "\u001b[0;31mNameError\u001b[0m: name 'df' is not defined"
     ]
    }
   ],
   "source": [
    "crimes = df_crime_stats['offense_name'].values\n",
    "crimes"
   ]
  },
  {
   "cell_type": "code",
   "execution_count": null,
   "metadata": {},
   "outputs": [],
   "source": []
  }
 ]
}